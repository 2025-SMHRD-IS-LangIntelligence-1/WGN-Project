{
 "cells": [
  {
   "cell_type": "code",
   "execution_count": 1,
   "id": "e7433e1e-e2fa-446a-9e78-d85c8a919780",
   "metadata": {},
   "outputs": [],
   "source": [
    "from flask import Flask, request, jsonify\n",
    "from flask_cors import CORS\n",
    "import pandas as pd\n",
    "import ast"
   ]
  },
  {
   "cell_type": "code",
   "execution_count": 3,
   "id": "83cb06e8-b537-4acb-b50c-bccc1662b138",
   "metadata": {},
   "outputs": [
    {
     "ename": "ModuleNotFoundError",
     "evalue": "No module named 'recommend_feed'",
     "output_type": "error",
     "traceback": [
      "\u001b[1;31m---------------------------------------------------------------------------\u001b[0m",
      "\u001b[1;31mModuleNotFoundError\u001b[0m                       Traceback (most recent call last)",
      "Cell \u001b[1;32mIn[3], line 1\u001b[0m\n\u001b[1;32m----> 1\u001b[0m \u001b[38;5;28;01mfrom\u001b[39;00m \u001b[38;5;21;01mrecommend_feed\u001b[39;00m \u001b[38;5;28;01mimport\u001b[39;00m get_feed_recommendation\n",
      "\u001b[1;31mModuleNotFoundError\u001b[0m: No module named 'recommend_feed'"
     ]
    }
   ],
   "source": [
    "from recommend_feed import get_feed_recommendation"
   ]
  },
  {
   "cell_type": "code",
   "execution_count": null,
   "id": "8592a414-4886-44f0-ac9b-43abccba1f8d",
   "metadata": {},
   "outputs": [],
   "source": [
    "app = Flask(__name__) # 플라스크 애플리케이션 생성, 모듈 이름은 app\n",
    "CORS(app) # CORS 사용\n",
    "\n",
    "@app.route('/recommend/feed', methods=['POST'])\n",
    "def feed_recommend():\n",
    "    data = request.get_json() # json 데이터 파싱해서 dict로 받아옴\n",
    "    mb_id = data.get(\"mb_id\") # data에서 mb_id 받아옴\n",
    "    result = get_feed_recommendation(mb_id) # mb_id로 피드 추천 받음\n",
    "    return jsonify(result)"
   ]
  }
 ],
 "metadata": {
  "kernelspec": {
   "display_name": "Python [conda env:base] *",
   "language": "python",
   "name": "conda-base-py"
  },
  "language_info": {
   "codemirror_mode": {
    "name": "ipython",
    "version": 3
   },
   "file_extension": ".py",
   "mimetype": "text/x-python",
   "name": "python",
   "nbconvert_exporter": "python",
   "pygments_lexer": "ipython3",
   "version": "3.12.7"
  }
 },
 "nbformat": 4,
 "nbformat_minor": 5
}
